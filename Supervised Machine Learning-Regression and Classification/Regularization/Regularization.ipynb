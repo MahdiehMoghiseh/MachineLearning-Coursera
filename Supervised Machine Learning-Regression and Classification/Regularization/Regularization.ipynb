{
 "cells": [
  {
   "cell_type": "code",
   "execution_count": 68,
   "id": "1b5a2fa5",
   "metadata": {},
   "outputs": [],
   "source": [
    "import numpy as np\n",
    "import matplotlib.pyplot as plt\n",
    "import pandas as pd\n",
    "import math, copy"
   ]
  },
  {
   "cell_type": "code",
   "execution_count": 69,
   "id": "d9e6f05a",
   "metadata": {},
   "outputs": [],
   "source": [
    "def compute_cost_linear_reg (X, y, w, b, lambda_ = 1) :\n",
    "    m, n = X.shape\n",
    "    cost = 0\n",
    "    for i in range(m) :\n",
    "        f_wb_i = np.dot(X[i], w) + b\n",
    "        cost += (f_wb_i - y[i]) ** 2\n",
    "    cost /= (2*m)\n",
    "    reg = 0\n",
    "    for j in range(n) :\n",
    "        reg += w[j] ** 2\n",
    "    reg *= (lambda_ / (2*m))\n",
    "    return cost + reg"
   ]
  },
  {
   "cell_type": "code",
   "execution_count": 70,
   "id": "2aa67189",
   "metadata": {},
   "outputs": [
    {
     "name": "stdout",
     "output_type": "stream",
     "text": [
      "Regularized cost: 0.07917239320214277\n"
     ]
    }
   ],
   "source": [
    "# test\n",
    "np.random.seed(1)\n",
    "X_tmp = np.random.rand(5,6)\n",
    "y_tmp = np.array([0,1,0,1,0])\n",
    "w_tmp = np.random.rand(X_tmp.shape[1]).reshape(-1,)-0.5\n",
    "b_tmp = 0.5\n",
    "lambda_tmp = 0.7\n",
    "cost_tmp = compute_cost_linear_reg(X_tmp, y_tmp, w_tmp, b_tmp, lambda_tmp)\n",
    "\n",
    "print(\"Regularized cost:\", cost_tmp)"
   ]
  },
  {
   "cell_type": "code",
   "execution_count": 71,
   "id": "453e4570",
   "metadata": {},
   "outputs": [],
   "source": [
    "def compute_cost_logistic_reg (X, y, w, b, lambda_ = 1) :\n",
    "    m, n = X.shape\n",
    "    cost = 0\n",
    "    for i in range(m) :\n",
    "        z_i = np.dot(X[i], w) + b\n",
    "        f_i = 1 / (1 + np.exp(-z_i))\n",
    "        cost += -y[i] * np.log(f_i) - (1 - y[i]) * np.log(1 - f_i)\n",
    "    cost /= m\n",
    "    reg = 0\n",
    "    for j in range(n) :\n",
    "        reg += w[j] ** 2\n",
    "    reg *= (lambda_ / (2*m))\n",
    "    return cost + reg"
   ]
  },
  {
   "cell_type": "code",
   "execution_count": 72,
   "id": "15bbfe77",
   "metadata": {},
   "outputs": [
    {
     "name": "stdout",
     "output_type": "stream",
     "text": [
      "Regularized cost: 0.6850849138741673\n"
     ]
    }
   ],
   "source": [
    "# test\n",
    "np.random.seed(1)\n",
    "X_tmp = np.random.rand(5,6)\n",
    "y_tmp = np.array([0,1,0,1,0])\n",
    "w_tmp = np.random.rand(X_tmp.shape[1]).reshape(-1,)-0.5\n",
    "b_tmp = 0.5\n",
    "lambda_tmp = 0.7\n",
    "cost_tmp = compute_cost_logistic_reg(X_tmp, y_tmp, w_tmp, b_tmp, lambda_tmp)\n",
    "\n",
    "print(\"Regularized cost:\", cost_tmp)"
   ]
  },
  {
   "cell_type": "code",
   "execution_count": 73,
   "id": "4cb584e8",
   "metadata": {},
   "outputs": [],
   "source": [
    "def compute_gradient_linear_reg (X, y, w, b, lambda_) :\n",
    "    m,n = X.shape        \n",
    "    dj_dw = np.zeros((n,))\n",
    "    dj_db = 0.\n",
    "\n",
    "    for i in range(m):                             \n",
    "        err = (np.dot(X[i], w) + b) - y[i]                 \n",
    "        for j in range(n):                         \n",
    "            dj_dw[j] += err * X[i, j]               \n",
    "        dj_db += err                        \n",
    "    dj_dw /= m                                \n",
    "    dj_db /= m   \n",
    "    \n",
    "    for j in range(n):\n",
    "        dj_dw[j] += (lambda_/m) * w[j]\n",
    "\n",
    "    return dj_db, dj_dw"
   ]
  },
  {
   "cell_type": "code",
   "execution_count": 74,
   "id": "da68ff8c",
   "metadata": {},
   "outputs": [
    {
     "name": "stdout",
     "output_type": "stream",
     "text": [
      "dj_db: 0.6648774569425726\n",
      "Regularized dj_dw:\n",
      " [0.29653214748822276, 0.4911679625918033, 0.21645877535865857]\n"
     ]
    }
   ],
   "source": [
    "# test\n",
    "np.random.seed(1)\n",
    "X_tmp = np.random.rand(5,3)\n",
    "y_tmp = np.array([0,1,0,1,0])\n",
    "w_tmp = np.random.rand(X_tmp.shape[1])\n",
    "b_tmp = 0.5\n",
    "lambda_tmp = 0.7\n",
    "dj_db_tmp, dj_dw_tmp =  compute_gradient_linear_reg(X_tmp, y_tmp, w_tmp, b_tmp, lambda_tmp)\n",
    "\n",
    "print(f\"dj_db: {dj_db_tmp}\", )\n",
    "print(f\"Regularized dj_dw:\\n {dj_dw_tmp.tolist()}\", )"
   ]
  },
  {
   "cell_type": "code",
   "execution_count": 75,
   "id": "23c2eba0",
   "metadata": {},
   "outputs": [],
   "source": [
    "def compute_gradient_logistic_reg (X, y, w, b, lambda_):\n",
    "    m,n = X.shape\n",
    "    dj_dw = np.zeros((n,))\n",
    "    dj_db = 0.\n",
    "    for i in range(m) :\n",
    "        z_i = np.dot(X[i], w) + b\n",
    "        f_i = 1 / (1 + np.exp(-z_i))\n",
    "        error = f_i - y[i]\n",
    "        for j in range(n) :\n",
    "            dj_dw[j] += error * X[i, j]\n",
    "        dj_db += error\n",
    "    dj_dw /= m\n",
    "    dj_db /= m\n",
    "    for j in range(n) :\n",
    "        dj_dw[j] += (lambda_/m) * w[j]\n",
    "    return dj_db, dj_dw"
   ]
  },
  {
   "cell_type": "code",
   "execution_count": 76,
   "id": "f292ae39",
   "metadata": {},
   "outputs": [
    {
     "name": "stdout",
     "output_type": "stream",
     "text": [
      "dj_db: 0.341798994972791\n",
      "Regularized dj_dw:\n",
      " [0.17380012933994293, 0.32007507881566943, 0.10776313396851499]\n"
     ]
    }
   ],
   "source": [
    "# test\n",
    "np.random.seed(1)\n",
    "X_tmp = np.random.rand(5,3)\n",
    "y_tmp = np.array([0,1,0,1,0])\n",
    "w_tmp = np.random.rand(X_tmp.shape[1])\n",
    "b_tmp = 0.5\n",
    "lambda_tmp = 0.7\n",
    "dj_db_tmp, dj_dw_tmp =  compute_gradient_logistic_reg(X_tmp, y_tmp, w_tmp, b_tmp, lambda_tmp)\n",
    "\n",
    "print(f\"dj_db: {dj_db_tmp}\", )\n",
    "print(f\"Regularized dj_dw:\\n {dj_dw_tmp.tolist()}\", )"
   ]
  },
  {
   "cell_type": "code",
   "execution_count": 77,
   "id": "4d6a8319",
   "metadata": {},
   "outputs": [],
   "source": [
    "def gradient_descent(X, y, w_in, b_in, cost_function, gradient_function, alpha, num_iters, lambda_) :\n",
    "    J_history = []\n",
    "    w = copy.deepcopy(w_in)\n",
    "    b = b_in\n",
    "    for i in range(num_iters) :\n",
    "        dj_db, dj_dw = gradient_function(X, y, w, b, lambda_)\n",
    "        w = w - alpha * dj_dw\n",
    "        b = b - alpha * dj_db\n",
    "        if i < 100000 :\n",
    "            J_history.append(cost_function(X, y, w, b, lambda_))\n",
    "        if i % math.ceil(num_iters / 10) == 0:\n",
    "            print(f\"Iteration {i:4d}: Cost {J_history[-1]:8.2f}\")\n",
    "    return w, b, J_history"
   ]
  },
  {
   "cell_type": "code",
   "execution_count": null,
   "id": "a8683785",
   "metadata": {},
   "outputs": [],
   "source": []
  }
 ],
 "metadata": {
  "kernelspec": {
   "display_name": "Python 3 (ipykernel)",
   "language": "python",
   "name": "python3"
  },
  "language_info": {
   "codemirror_mode": {
    "name": "ipython",
    "version": 3
   },
   "file_extension": ".py",
   "mimetype": "text/x-python",
   "name": "python",
   "nbconvert_exporter": "python",
   "pygments_lexer": "ipython3",
   "version": "3.9.4"
  }
 },
 "nbformat": 4,
 "nbformat_minor": 5
}
